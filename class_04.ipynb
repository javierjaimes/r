{
 "cells": [
  {
   "cell_type": "markdown",
   "metadata": {},
   "source": [
    "# Class 04\n",
    "\n",
    "- Problema de Investigacion\n",
    "- Contexto del Problema\n",
    "- Hipotesis (Soportadas Referecias Bibliograficas)\n",
    "- Descripcion del conjunto de datos y algunas descriptivas estadisticas basicas\n",
    "- Referencias\n",
    "\n",
    "## Ediciones en R Markdown\n",
    "\n",
    "Utilizar preferiblemente el template compartido en clase, ya tiene las diferentes configuraciones necesarias para extraer y generar buenos reportes.\n",
    "\n",
    "\n",
    "## Librerias\n",
    "\n",
    "1. Instalar  flextable\n",
    "2. Crear ggplot para configurar una tabla"
   ]
  },
  {
   "cell_type": "markdown",
   "metadata": {},
   "source": []
  },
  {
   "cell_type": "code",
   "execution_count": null,
   "metadata": {
    "vscode": {
     "languageId": "r"
    }
   },
   "outputs": [],
   "source": []
  }
 ],
 "metadata": {
  "kernelspec": {
   "display_name": "R",
   "language": "R",
   "name": "ir"
  },
  "language_info": {
   "name": "R"
  }
 },
 "nbformat": 4,
 "nbformat_minor": 2
}

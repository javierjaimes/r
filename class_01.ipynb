{
 "cells": [
  {
   "cell_type": "code",
   "execution_count": 1,
   "metadata": {
    "vscode": {
     "languageId": "r"
    }
   },
   "outputs": [],
   "source": [
    "library(readr)"
   ]
  },
  {
   "cell_type": "markdown",
   "metadata": {},
   "source": [
    "# Language Basics\n",
    "\n",
    "Let's start with assignations on R."
   ]
  },
  {
   "cell_type": "code",
   "execution_count": 1,
   "metadata": {
    "vscode": {
     "languageId": "r"
    }
   },
   "outputs": [
    {
     "data": {
      "text/html": [
       "6"
      ],
      "text/latex": [
       "6"
      ],
      "text/markdown": [
       "6"
      ],
      "text/plain": [
       "[1] 6"
      ]
     },
     "metadata": {},
     "output_type": "display_data"
    }
   ],
   "source": [
    "# Variable Assignation\n",
    "x <- 3 + 3\n",
    "x"
   ]
  },
  {
   "cell_type": "markdown",
   "metadata": {},
   "source": [
    "Some examples using logic operators"
   ]
  },
  {
   "cell_type": "code",
   "execution_count": 13,
   "metadata": {
    "vscode": {
     "languageId": "r"
    }
   },
   "outputs": [
    {
     "data": {
      "text/html": [
       "TRUE"
      ],
      "text/latex": [
       "TRUE"
      ],
      "text/markdown": [
       "TRUE"
      ],
      "text/plain": [
       "[1] TRUE"
      ]
     },
     "metadata": {},
     "output_type": "display_data"
    }
   ],
   "source": [
    "3 > 1\n",
    "y <- 3 < 5 && 4 < 2\n",
    "z <- 3 != 9\n",
    "x <- 3 == 3"
   ]
  },
  {
   "cell_type": "markdown",
   "metadata": {},
   "source": [
    "**R** has the following types: numeric, integers $\\mathbb{R}$, booleans, strings, factors (with levels) and complex.\n",
    "\n",
    "Now, let's review the examples of the doc:"
   ]
  },
  {
   "cell_type": "code",
   "execution_count": 21,
   "metadata": {
    "vscode": {
     "languageId": "r"
    }
   },
   "outputs": [
    {
     "data": {
      "text/html": [
       "'numeric'"
      ],
      "text/latex": [
       "'numeric'"
      ],
      "text/markdown": [
       "'numeric'"
      ],
      "text/plain": [
       "[1] \"numeric\""
      ]
     },
     "metadata": {},
     "output_type": "display_data"
    },
    {
     "data": {
      "text/html": [
       "'integer'"
      ],
      "text/latex": [
       "'integer'"
      ],
      "text/markdown": [
       "'integer'"
      ],
      "text/plain": [
       "[1] \"integer\""
      ]
     },
     "metadata": {},
     "output_type": "display_data"
    },
    {
     "data": {
      "text/html": [
       "<style>\n",
       ".list-inline {list-style: none; margin:0; padding: 0}\n",
       ".list-inline>li {display: inline-block}\n",
       ".list-inline>li:not(:last-child)::after {content: \"\\00b7\"; padding: 0 .5ex}\n",
       "</style>\n",
       "<ol class=list-inline><li>4</li><li>3</li><li>1</li></ol>\n"
      ],
      "text/latex": [
       "\\begin{enumerate*}\n",
       "\\item 4\n",
       "\\item 3\n",
       "\\item 1\n",
       "\\end{enumerate*}\n"
      ],
      "text/markdown": [
       "1. 4\n",
       "2. 3\n",
       "3. 1\n",
       "\n",
       "\n"
      ],
      "text/plain": [
       "[1] 4 3 1"
      ]
     },
     "metadata": {},
     "output_type": "display_data"
    }
   ],
   "source": [
    "# Numeric series:\n",
    "numeric_series <- c(3.5, 2.9, 6.8)\n",
    "class(numeric_series)\n",
    "\n",
    "integer_vector <- c(4, 3, 1)\n",
    "integer_vector <- as.integer(integer_vector)\n",
    "class(integer_vector)\n",
    "integer_vector"
   ]
  },
  {
   "cell_type": "markdown",
   "metadata": {},
   "source": [
    "Factor and levels are presented on the doc. Now view tibles *(Dataframe)*\n",
    "\n",
    "## Reading .csv files using dataframes"
   ]
  },
  {
   "cell_type": "code",
   "execution_count": 8,
   "metadata": {
    "vscode": {
     "languageId": "r"
    }
   },
   "outputs": [
    {
     "name": "stderr",
     "output_type": "stream",
     "text": [
      "\u001b[1m\u001b[22mNew names:\n",
      "\u001b[36m•\u001b[39m `40,9` -> `40,9...11`\n",
      "\u001b[36m•\u001b[39m `40,9` -> `40,9...12`\n",
      "\u001b[1mRows: \u001b[22m\u001b[34m1282502\u001b[39m \u001b[1mColumns: \u001b[22m\u001b[34m15\u001b[39m\n",
      "\u001b[36m──\u001b[39m \u001b[1mColumn specification\u001b[22m \u001b[36m────────────────────────────────────────────────────────\u001b[39m\n",
      "\u001b[1mDelimiter:\u001b[22m \";\"\n",
      "\u001b[31mchr\u001b[39m (7): CABLE NET S.A.S., PUERTO ASÍS, PUTUMAYO, Residencial - Estrato 2, 4...\n",
      "\u001b[32mdbl\u001b[39m (8): 2021, 1, 900014381, 86568, 86, 102, 108, 26\n",
      "\n",
      "\u001b[36mℹ\u001b[39m Use `spec()` to retrieve the full column specification for this data.\n",
      "\u001b[36mℹ\u001b[39m Specify the column types or set `show_col_types = FALSE` to quiet this message.\n"
     ]
    },
    {
     "name": "stdout",
     "output_type": "stream",
     "text": [
      "spc_tbl_ [1,282,502 × 15] (S3: spec_tbl_df/tbl_df/tbl/data.frame)\n",
      " $ 2021                    : num [1:1282502] 2021 2021 2021 2021 2021 ...\n",
      " $ 1                       : num [1:1282502] 1 1 1 1 1 1 1 1 1 1 ...\n",
      " $ 900014381               : num [1:1282502] 9e+08 9e+08 9e+08 9e+08 9e+08 ...\n",
      " $ CABLE NET S.A.S.        : chr [1:1282502] \"CABLE NET S.A.S.\" \"CABLE NET S.A.S.\" \"CABLE NET S.A.S.\" \"CABLE NET S.A.S.\" ...\n",
      " $ 86568                   : num [1:1282502] 86568 86568 86568 86568 86568 ...\n",
      " $ PUERTO ASÍS             : chr [1:1282502] \"PUERTO ASÍS\" \"PUERTO ASÍS\" \"PUERTO ASÍS\" \"PUERTO ASÍS\" ...\n",
      " $ 86                      : num [1:1282502] 86 86 86 86 86 8 68 68 68 68 ...\n",
      " $ PUTUMAYO                : chr [1:1282502] \"PUTUMAYO\" \"PUTUMAYO\" \"PUTUMAYO\" \"PUTUMAYO\" ...\n",
      " $ 102                     : num [1:1282502] 102 102 102 102 102 101 103 103 101 101 ...\n",
      " $ Residencial - Estrato 2 : chr [1:1282502] \"Residencial - Estrato 2\" \"Residencial - Estrato 2\" \"Residencial - Estrato 2\" \"Residencial - Estrato 2\" ...\n",
      " $ 40,9...11               : chr [1:1282502] \"30,5\" \"8,19\" \"12,2\" \"10,2\" ...\n",
      " $ 40,9...12               : chr [1:1282502] \"30,5\" \"8,19\" \"12,2\" \"10,2\" ...\n",
      " $ 108                     : num [1:1282502] 108 108 108 108 108 102 107 107 107 107 ...\n",
      " $ Fiber to the home (FTTH): chr [1:1282502] \"Fiber to the home (FTTH)\" \"Fiber to the home (FTTH)\" \"Fiber to the home (FTTH)\" \"Fiber to the home (FTTH)\" ...\n",
      " $ 26                      : num [1:1282502] 36 272 149 273 78 402 14 2 90 27 ...\n",
      " - attr(*, \"spec\")=\n",
      "  .. cols(\n",
      "  ..   `2021` = \u001b[32mcol_double()\u001b[39m,\n",
      "  ..   `1` = \u001b[32mcol_double()\u001b[39m,\n",
      "  ..   `900014381` = \u001b[32mcol_double()\u001b[39m,\n",
      "  ..   `CABLE NET S.A.S.` = \u001b[31mcol_character()\u001b[39m,\n",
      "  ..   `86568` = \u001b[32mcol_double()\u001b[39m,\n",
      "  ..   `PUERTO ASÍS` = \u001b[31mcol_character()\u001b[39m,\n",
      "  ..   `86` = \u001b[32mcol_double()\u001b[39m,\n",
      "  ..   PUTUMAYO = \u001b[31mcol_character()\u001b[39m,\n",
      "  ..   `102` = \u001b[32mcol_double()\u001b[39m,\n",
      "  ..   `Residencial - Estrato 2` = \u001b[31mcol_character()\u001b[39m,\n",
      "  ..   `40,9...11` = \u001b[31mcol_character()\u001b[39m,\n",
      "  ..   `40,9...12` = \u001b[31mcol_character()\u001b[39m,\n",
      "  ..   `108` = \u001b[32mcol_double()\u001b[39m,\n",
      "  ..   `Fiber to the home (FTTH)` = \u001b[31mcol_character()\u001b[39m,\n",
      "  ..   `26` = \u001b[32mcol_double()\u001b[39m\n",
      "  .. )\n",
      " - attr(*, \"problems\")=<externalptr> \n"
     ]
    }
   ],
   "source": [
    "data <- read_delim(\"data/ACCESOS_INTERNET_FIJO_3_9.csv\", delim = \";\", skip = 1)\n",
    "str(data)"
   ]
  }
 ],
 "metadata": {
  "kernelspec": {
   "display_name": "R",
   "language": "R",
   "name": "ir"
  },
  "language_info": {
   "codemirror_mode": "r",
   "file_extension": ".r",
   "mimetype": "text/x-r-source",
   "name": "R",
   "pygments_lexer": "r",
   "version": "4.3.3"
  }
 },
 "nbformat": 4,
 "nbformat_minor": 2
}
